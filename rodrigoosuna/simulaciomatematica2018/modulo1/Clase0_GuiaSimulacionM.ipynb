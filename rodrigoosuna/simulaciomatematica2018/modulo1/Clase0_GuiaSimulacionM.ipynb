{
 "cells": [
  {
   "cell_type": "markdown",
   "metadata": {
    "slideshow": {
     "slide_type": "slide"
    }
   },
   "source": [
    "___\n",
    "<img style=\"float: right; margin: 0px 0px 15px 15px;\" src=\"https://upload.wikimedia.org/wikipedia/commons/thumb/4/4a/Python3-powered_hello-world.svg/1000px-Python3-powered_hello-world.svg.png\" width=\"300px\" height=\"100px\" />\n",
    "\n",
    "\n",
    "## <font color= #8A0829> Simulación matemática</font>\n",
    "#### <font color= #2E9AFE>  `Lunes-Jueves de 11:00 a 13:00 hrs`</font>\n",
    "#### <font color= #2E9AFE>  `Asesorías, dos veces por semanana de 13  a 14 hrs `</font>\n",
    "\n",
    "- <Strong> Lázaro Alonso </Strong>\n",
    "- <Strong> Año </Strong>: 2018\n",
    "- <Strong> Copyright: </Strong> Public Domain como en [CC](https://creativecommons.org/licenses/by/2.0/) (Exepto donde se indique lo contrario)\n",
    "\n",
    "- <Strong> Email: </Strong>  <font color=\"blue\"> `alonsosilva@iteso.mx, lazarus.alon@gmail.com` </font>\n",
    "___"
   ]
  },
  {
   "cell_type": "markdown",
   "metadata": {
    "slideshow": {
     "slide_type": "slide"
    }
   },
   "source": [
    "## First, let's now each other... "
   ]
  },
  {
   "cell_type": "markdown",
   "metadata": {
    "slideshow": {
     "slide_type": "slide"
    }
   },
   "source": [
    "### `Reglas generales`\n",
    "> \n",
    "    - No comidas ni bebidas en las clases.\n",
    "    - ¿Celulares? Sean responsables. Un gran poder conlleva una gran responsabilidad.\n",
    "        - NO INTERRUMPIR LA CLASE\n",
    "\n",
    "   - La regla más importante de todas (regla de oro): todas las entregas se realizan a través de Moodle con los plazos asignados. No se aceptan trabajos fuera de la plataforma ni fuera de plazo. **NO INSISTAN EN ESTE PUNTO.**\n",
    "___"
   ]
  },
  {
   "cell_type": "markdown",
   "metadata": {
    "slideshow": {
     "slide_type": "slide"
    }
   },
   "source": [
    "### `Descripción de la asignatura`\n",
    "*Este es un curso básico de simulación utilizando python, por ende vamos a iniciar elaborando programas simples y conforme avancemos el nivel de exigencia aumentará, hasta donde el tiempo nos permita. *\n",
    "- Problemas de ingeniería: requieren soluciones adecuadas, eficientes y óptimas.\n",
    "- La simulación matemática de escenarios es una estrategia relevante para resolver tales problemas, consiste en modelar numéricamente los principios físicos y matemáticos que rigen un fenómeno mediante el uso de lenguajes de modelado y herramientas de tecnologías de información.\n",
    "- La asignatura está diseñada para que logres dichos propósitos e inicies un proceso que te permita apropiarte de desempeños profesionales muy útiles en tu formación profesional y en tu futuro, al incorporarte a la industria u organizaciones que te demandarán resolver e implementar la simulación de escenarios bajo diferentes situaciones a través de la sistematización de la solución al problema planteado.\n"
   ]
  },
  {
   "cell_type": "markdown",
   "metadata": {
    "slideshow": {
     "slide_type": "slide"
    }
   },
   "source": [
    "#### `OBJETIVO GENERAL `\n",
    ">  <p style='text-align: justify;'> A partir de la modelación de fenómenos físicos desarrollarás las competencias necesarias para reproducir escenarios de aplicación profesional que representen de manera más cercana el fenómeno objetivo. Podrás además realizar inferencias que ayuden a la óptima toma de decisiones en la solución de problemas.</p>"
   ]
  },
  {
   "cell_type": "markdown",
   "metadata": {
    "slideshow": {
     "slide_type": "slide"
    }
   },
   "source": [
    "`Módulo 1.` **Optimización**\n",
    "> Se aplicará una evaluación (**exámen**) y se evaluará una presentación de **proyecto.**\n",
    "   1. ¿Qué es una simulación?\n",
    "    - Introducción e instalación de software\n",
    "   2. `git, GitHub, GitKraken`\n",
    "   3. `git, GitHub, GitKraken` (Continuación)\n",
    "   4. Optimización de funciones de variable escalar con SymPy\n",
    "   5. Programación Lineal\n",
    "   6. Programación Lineal (Continuación)\n",
    "   7. Ajuste de curvas\n",
    "   8. Ajuste de curvas (Continuación)\n",
    "   9. Clasificación"
   ]
  },
  {
   "cell_type": "markdown",
   "metadata": {
    "slideshow": {
     "slide_type": "slide"
    }
   },
   "source": [
    "`Módulo 2.`  **Ecuaciones diferenciales**\n",
    "> Se aplicará una evaluación (**exámen**) y se evaluará una presentación de **proyecto.**\n",
    "   1. Introducción a ecuaciones diferenciales\n",
    "   2. ¿Cómo se muve un péndulo?\n",
    "   3. ¿Cómo funciona la suspensión de un auto?\n",
    "   4. ¿Cómo crece una población?\n",
    "   5. Modelo del rendimiento de una cuenta de ahorro\n",
    "   6. ¿Cómo vibra un tambor cuando lo golpeas?"
   ]
  },
  {
   "cell_type": "markdown",
   "metadata": {
    "slideshow": {
     "slide_type": "slide"
    }
   },
   "source": [
    "`Módulo 3.`  ** Montecarlo **\n",
    "> Se aplicará una evaluación (**exámen**) y se evaluará una presentación de **proyecto.**\n",
    "   1. Caminata aleatoria\n",
    "   2. Integrales\n",
    "   3. Fractales aleatorios\n",
    "   4. Bajar y organizar datos de Yahoo Finance (Pandas)\n",
    "   5. Probabilidad precio-umbral\n",
    "   6. Probabilidad precio-umbral (Continuación)"
   ]
  },
  {
   "cell_type": "markdown",
   "metadata": {
    "slideshow": {
     "slide_type": "slide"
    }
   },
   "source": [
    "### `Evaluación y bibliografía sugerida`\n",
    "\n",
    "- <strong> 3 Proyectos (trabajo en equipo)       60%</strong>\n",
    " - Cada proyecto tiene un valor del 20% \n",
    "  - La evaluación de cada proyecto se divide en dos partes \n",
    "   - Reporte     10%\n",
    "   - Exposición  10% \n",
    "- **3 Examenes  30 %**\n",
    "- Tareas y actividades de clase 10 %\n",
    "- <font color=\"blue\">Equipos de 2 integrantes mínimo y 3 máximo. NO NEGOCIABLE.</font>\n",
    " - Si durante algún proyecto las cosas no funcionan entre los integrantes, para el siguiente proyecto se pueden formar equipos nuevos. "
   ]
  },
  {
   "cell_type": "markdown",
   "metadata": {
    "slideshow": {
     "slide_type": "slide"
    }
   },
   "source": [
    "### `Bibliografía `"
   ]
  },
  {
   "cell_type": "markdown",
   "metadata": {
    "slideshow": {
     "slide_type": "subslide"
    }
   },
   "source": [
    "> ```\n",
    "- Fluent Python by Ramalho, Luciano \n",
    "- Python for Finance  by Hilpisch, Yves \n",
    "- Python for Scientists by Stewart, John M. ```\n",
    "Estos y muchos mas libros los pueden encontrar en la Biblioteca."
   ]
  },
  {
   "cell_type": "markdown",
   "metadata": {
    "slideshow": {
     "slide_type": "-"
    }
   },
   "source": [
    "<script>\n",
    "  $(document).ready(function(){\n",
    "    $('div.prompt').hide();\n",
    "    $('div.back-to-top').hide();\n",
    "    $('nav#menubar').hide();\n",
    "    $('.breadcrumb').hide();\n",
    "    $('.hidden-print').hide();\n",
    "  });\n",
    "</script>\n",
    "\n",
    "<footer id=\"attribution\" style=\"float:right; color:#808080; background:#fff;\">\n",
    "Created with Jupyter by Lázaro Alonso.\n",
    "</footer>"
   ]
  }
 ],
 "metadata": {
  "anaconda-cloud": {},
  "kernelspec": {
   "display_name": "Python 3",
   "language": "python",
   "name": "python3"
  },
  "language_info": {
   "codemirror_mode": {
    "name": "ipython",
    "version": 3
   },
   "file_extension": ".py",
   "mimetype": "text/x-python",
   "name": "python",
   "nbconvert_exporter": "python",
   "pygments_lexer": "ipython3",
   "version": "3.6.4"
  }
 },
 "nbformat": 4,
 "nbformat_minor": 1
}
