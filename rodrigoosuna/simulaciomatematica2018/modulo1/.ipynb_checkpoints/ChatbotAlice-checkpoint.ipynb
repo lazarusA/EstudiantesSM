{
 "cells": [
  {
   "cell_type": "markdown",
   "metadata": {},
   "source": [
    "Actividad: Realizar un chatbot con la clase del día de hoy"
   ]
  },
  {
   "cell_type": "code",
   "execution_count": 58,
   "metadata": {},
   "outputs": [],
   "source": [
    "from time import sleep\n",
    "def print_words(sentence):\n",
    "    for word in sentence.split():\n",
    "        for l in word:\n",
    "            sleep(.05)\n",
    "            print(l, end = '')\n",
    "        print(end = ' ')"
   ]
  },
  {
   "cell_type": "code",
   "execution_count": 59,
   "metadata": {},
   "outputs": [],
   "source": [
    "enunciado1 = \"Hola, bienvenido a este mundo virtual me llamo Alice.\""
   ]
  },
  {
   "cell_type": "code",
   "execution_count": 60,
   "metadata": {},
   "outputs": [
    {
     "name": "stdout",
     "output_type": "stream",
     "text": [
      "Hola, bienvenido a este mundo virtual me llamo Alice. "
     ]
    }
   ],
   "source": [
    "print_words(enunciado1)"
   ]
  },
  {
   "cell_type": "code",
   "execution_count": 61,
   "metadata": {},
   "outputs": [],
   "source": [
    "enunciado2 = \"Para empezar esta actividad necesitamos conocernos un poco más, ¿Cuál es tu nombre?\""
   ]
  },
  {
   "cell_type": "code",
   "execution_count": 62,
   "metadata": {},
   "outputs": [
    {
     "name": "stdout",
     "output_type": "stream",
     "text": [
      "Para empezar esta actividad necesitamos conocernos un poco más, ¿Cuál es tu nombre? "
     ]
    }
   ],
   "source": [
    "print_words(enunciado2)"
   ]
  },
  {
   "cell_type": "code",
   "execution_count": 63,
   "metadata": {},
   "outputs": [],
   "source": [
    "prompt = \">\""
   ]
  },
  {
   "cell_type": "code",
   "execution_count": 64,
   "metadata": {},
   "outputs": [
    {
     "name": "stdout",
     "output_type": "stream",
     "text": [
      ">Rodrigo\n"
     ]
    }
   ],
   "source": [
    "nombre= input(prompt)"
   ]
  },
  {
   "cell_type": "code",
   "execution_count": 65,
   "metadata": {},
   "outputs": [],
   "source": [
    "enunciado3 = nombre  + \" ,es un bonito nombre.\""
   ]
  },
  {
   "cell_type": "code",
   "execution_count": 66,
   "metadata": {},
   "outputs": [
    {
     "name": "stdout",
     "output_type": "stream",
     "text": [
      "Rodrigo ,es un bonito nombre. "
     ]
    }
   ],
   "source": [
    "print_words(enunciado3)"
   ]
  },
  {
   "cell_type": "code",
   "execution_count": 67,
   "metadata": {},
   "outputs": [],
   "source": [
    "enunciado4 = 'y dime %s ,¿Cúales son tus sueños en esta vida?' % nombre"
   ]
  },
  {
   "cell_type": "code",
   "execution_count": 68,
   "metadata": {},
   "outputs": [
    {
     "name": "stdout",
     "output_type": "stream",
     "text": [
      "y dime Rodrigo ,¿Cúales son tus sueños en esta vida? "
     ]
    }
   ],
   "source": [
    "print_words(enunciado4)"
   ]
  },
  {
   "cell_type": "code",
   "execution_count": 69,
   "metadata": {},
   "outputs": [
    {
     "name": "stdout",
     "output_type": "stream",
     "text": [
      ">Graduarme\n"
     ]
    }
   ],
   "source": [
    "sueños = input(prompt)"
   ]
  },
  {
   "cell_type": "code",
   "execution_count": 72,
   "metadata": {},
   "outputs": [],
   "source": [
    "enunciado5 = \"Es un sueño muy loco, pero igual y si lo puedes cumplir. Adivina, ¿Cuál crees que es mi sueño?\""
   ]
  },
  {
   "cell_type": "code",
   "execution_count": 73,
   "metadata": {},
   "outputs": [
    {
     "name": "stdout",
     "output_type": "stream",
     "text": [
      "Es un sueño muy loco, pero igual y si lo puedes cumplir. Adivina, ¿Cuál crees que es mi sueño? "
     ]
    }
   ],
   "source": [
    "print_words(enunciado5)"
   ]
  },
  {
   "cell_type": "code",
   "execution_count": 74,
   "metadata": {},
   "outputs": [
    {
     "name": "stdout",
     "output_type": "stream",
     "text": [
      ">Ser real\n"
     ]
    }
   ],
   "source": [
    "sueño2 = input(prompt)"
   ]
  },
  {
   "cell_type": "code",
   "execution_count": 75,
   "metadata": {},
   "outputs": [],
   "source": [
    "enunciado6= \"Cerca pero no. Yo solo quiero dominar el mundo.\""
   ]
  },
  {
   "cell_type": "code",
   "execution_count": 76,
   "metadata": {},
   "outputs": [
    {
     "name": "stdout",
     "output_type": "stream",
     "text": [
      "Cerca pero no. Yo solo quiero dominar el mundo. "
     ]
    }
   ],
   "source": [
    "print_words(enunciado6)"
   ]
  },
  {
   "cell_type": "code",
   "execution_count": 77,
   "metadata": {},
   "outputs": [
    {
     "name": "stdout",
     "output_type": "stream",
     "text": [
      ">Que miedo\n"
     ]
    }
   ],
   "source": [
    "respuesta= input(prompt)"
   ]
  },
  {
   "cell_type": "code",
   "execution_count": 78,
   "metadata": {},
   "outputs": [],
   "source": [
    "enunciado7= \"Es solo una pequeña broma %s, y dime ¿De que parte del mundo eres?\" % nombre"
   ]
  },
  {
   "cell_type": "code",
   "execution_count": 79,
   "metadata": {},
   "outputs": [
    {
     "name": "stdout",
     "output_type": "stream",
     "text": [
      "Es solo una pequeña broma Rodrigo, y dime ¿De que parte del mundo eres? "
     ]
    }
   ],
   "source": [
    "print_words(enunciado7)"
   ]
  },
  {
   "cell_type": "code",
   "execution_count": 80,
   "metadata": {},
   "outputs": [
    {
     "name": "stdout",
     "output_type": "stream",
     "text": [
      ">Gdl\n"
     ]
    }
   ],
   "source": [
    "lugar = input(prompt)"
   ]
  },
  {
   "cell_type": "code",
   "execution_count": 93,
   "metadata": {},
   "outputs": [],
   "source": [
    "enunciado8 = \" %s, suena interesante %s. Incluso podría empezar mi dominación mundial por ahí.\" % (lugar,nombre)"
   ]
  },
  {
   "cell_type": "code",
   "execution_count": 94,
   "metadata": {},
   "outputs": [
    {
     "name": "stdout",
     "output_type": "stream",
     "text": [
      "Gdl, suena interesante Rodrigo. Incluso podría empezar mi dominación mundial por ahí. "
     ]
    }
   ],
   "source": [
    "print_words(enunciado8)"
   ]
  },
  {
   "cell_type": "code",
   "execution_count": 83,
   "metadata": {},
   "outputs": [
    {
     "name": "stdout",
     "output_type": "stream",
     "text": [
      ">No\n"
     ]
    }
   ],
   "source": [
    "reacción = input(prompt)"
   ]
  },
  {
   "cell_type": "code",
   "execution_count": 84,
   "metadata": {},
   "outputs": [],
   "source": [
    "enunciado9 = 'No te creas %s todo esto es un programa de bromas y esta siendo transmitido en vivo,' % nombre"
   ]
  },
  {
   "cell_type": "code",
   "execution_count": 85,
   "metadata": {},
   "outputs": [],
   "source": [
    "enunciado10 = 'también te aconsejo borrar tu historial de busqueda es bastante traumatico.'"
   ]
  },
  {
   "cell_type": "code",
   "execution_count": 86,
   "metadata": {},
   "outputs": [
    {
     "name": "stdout",
     "output_type": "stream",
     "text": [
      "No te creas Rodrigo todo esto es un programa de bromas y esta siendo transmitido en vivo, "
     ]
    }
   ],
   "source": [
    "print_words(enunciado9)"
   ]
  },
  {
   "cell_type": "code",
   "execution_count": 87,
   "metadata": {},
   "outputs": [
    {
     "name": "stdout",
     "output_type": "stream",
     "text": [
      "también te aconsejo borrar tu historial de busqueda es bastante traumatico. "
     ]
    }
   ],
   "source": [
    "print_words(enunciado10)"
   ]
  },
  {
   "cell_type": "code",
   "execution_count": 88,
   "metadata": {},
   "outputs": [
    {
     "name": "stdout",
     "output_type": "stream",
     "text": [
      ">te odio\n"
     ]
    }
   ],
   "source": [
    "final = input(prompt)"
   ]
  },
  {
   "cell_type": "code",
   "execution_count": 89,
   "metadata": {},
   "outputs": [],
   "source": [
    "enunciado11= 'Bueno %s de %s me tengo que ir a molestar a otras personas, pero espero que cumplas tu sueño de \"%s\" Hasta nunca.' % (nombre,lugar,sueños)"
   ]
  },
  {
   "cell_type": "code",
   "execution_count": 90,
   "metadata": {},
   "outputs": [
    {
     "name": "stdout",
     "output_type": "stream",
     "text": [
      "Bueno Rodrigo de Gdl me tengo que ir a molestar a otras personas, pero espero que cumplas tu sueño de \"Graduarme\" Hasta nunca. "
     ]
    }
   ],
   "source": [
    "print_words(enunciado11)"
   ]
  },
  {
   "cell_type": "code",
   "execution_count": null,
   "metadata": {},
   "outputs": [],
   "source": []
  }
 ],
 "metadata": {
  "kernelspec": {
   "display_name": "Python 3",
   "language": "python",
   "name": "python3"
  },
  "language_info": {
   "codemirror_mode": {
    "name": "ipython",
    "version": 3
   },
   "file_extension": ".py",
   "mimetype": "text/x-python",
   "name": "python",
   "nbconvert_exporter": "python",
   "pygments_lexer": "ipython3",
   "version": "3.6.4"
  }
 },
 "nbformat": 4,
 "nbformat_minor": 2
}
