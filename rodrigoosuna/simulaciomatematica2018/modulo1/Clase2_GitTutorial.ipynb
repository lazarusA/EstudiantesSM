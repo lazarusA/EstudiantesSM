{
 "cells": [
  {
   "cell_type": "markdown",
   "metadata": {},
   "source": [
    "# ¿Cómo funciona `git`?\n",
    "\n",
    "<img src=\"http://conociendogithub.readthedocs.io/en/latest/_images/Git.png\" title=\"git\" width=\"200\" height=\"50\" align=\"center\">\n",
    "___"
   ]
  },
  {
   "cell_type": "markdown",
   "metadata": {},
   "source": [
    "### Descargar `git`\n",
    "https://git-scm.com/downloads\n",
    "\n",
    "**Control de versiones**\n",
    "\n",
    "<p align = \"justify\"> `Git` es un software de control de versiones diseñado por Linus Torvalds, pensando en la eficiencia y la confiabilidad del mantenimiento de versiones de aplicaciones cuando éstas tienen un gran número de archivos de código fuente.</p>"
   ]
  },
  {
   "cell_type": "markdown",
   "metadata": {},
   "source": [
    "<p align = \"justify\">  Se llama control de versiones a la gestión de los diversos cambios que se realizan sobre los elementos de algún producto o una configuración del mismo. Una versión, revisión o edición de un producto, es el estado en el que se encuentra el mismo en un momento dado de su desarrollo o modificación.</p>"
   ]
  },
  {
   "cell_type": "markdown",
   "metadata": {},
   "source": [
    "### Set up `git`"
   ]
  },
  {
   "cell_type": "markdown",
   "metadata": {},
   "source": [
    "- https://help.github.com/articles/set-up-git/"
   ]
  },
  {
   "cell_type": "markdown",
   "metadata": {},
   "source": [
    "Referencias: \n",
    "- https://git-scm.com/doc\n",
    "- https://es.wikipedia.org/wiki/Git\n",
    "- https://try.github.io/\n",
    "- http://learngitbranching.js.org\n",
    "- https://es.wikipedia.org/wiki/Control_de_versiones"
   ]
  },
  {
   "cell_type": "markdown",
   "metadata": {},
   "source": [
    "### !git init\n",
    "\n",
    "Sirve para crear el directorio \".git/\", localmente. En ese directorio está todo lo importante relacionado con **git**.  Si se borra este directorio se pierde toda la información del repositorio."
   ]
  },
  {
   "cell_type": "code",
   "execution_count": 9,
   "metadata": {},
   "outputs": [
    {
     "name": "stdout",
     "output_type": "stream",
     "text": [
      "Initialized empty Git repository in /Users/lazaro/Documents/Iteso/Simulacion2017/Modulo1/.git/\r\n"
     ]
    }
   ],
   "source": [
    "!git init"
   ]
  },
  {
   "cell_type": "markdown",
   "metadata": {},
   "source": [
    "**Nota:** En el shell(prompt, terminal) solo es necesario escribir **git init**"
   ]
  },
  {
   "cell_type": "markdown",
   "metadata": {},
   "source": [
    "Si deseamos saber en que directorio estamos actualmente usamos:"
   ]
  },
  {
   "cell_type": "code",
   "execution_count": 16,
   "metadata": {},
   "outputs": [
    {
     "data": {
      "text/plain": [
       "'/Users/lazaro/Documents/Iteso/Simulacion2017/Modulo1'"
      ]
     },
     "execution_count": 16,
     "metadata": {},
     "output_type": "execute_result"
    }
   ],
   "source": [
    "pwd"
   ]
  },
  {
   "cell_type": "markdown",
   "metadata": {},
   "source": [
    "Borrar un directorio _rm -r mydir_"
   ]
  },
  {
   "cell_type": "markdown",
   "metadata": {},
   "source": [
    "Y si queremos ver el contenido en dicho directorio"
   ]
  },
  {
   "cell_type": "code",
   "execution_count": 11,
   "metadata": {},
   "outputs": [
    {
     "name": "stdout",
     "output_type": "stream",
     "text": [
      "ContenidoModulo1.ipynb  GitTutorial.ipynb\r\n"
     ]
    }
   ],
   "source": [
    "ls"
   ]
  },
  {
   "cell_type": "markdown",
   "metadata": {},
   "source": [
    "Veamos lo que contiene todo el directorio **git**"
   ]
  },
  {
   "cell_type": "code",
   "execution_count": 12,
   "metadata": {},
   "outputs": [
    {
     "name": "stdout",
     "output_type": "stream",
     "text": [
      "total 24\r\n",
      "drwxr-xr-x  10 lazaro  staff  340 Aug  7 17:03 \u001b[34m.\u001b[m\u001b[m/\r\n",
      "drwxr-xr-x   6 lazaro  staff  204 Aug  7 17:03 \u001b[34m..\u001b[m\u001b[m/\r\n",
      "-rw-r--r--   1 lazaro  staff   23 Aug  7 17:03 HEAD\r\n",
      "drwxr-xr-x   2 lazaro  staff   68 Aug  7 17:03 \u001b[34mbranches\u001b[m\u001b[m/\r\n",
      "-rw-r--r--   1 lazaro  staff  137 Aug  7 17:03 config\r\n",
      "-rw-r--r--   1 lazaro  staff   73 Aug  7 17:03 description\r\n",
      "drwxr-xr-x  12 lazaro  staff  408 Aug  7 17:03 \u001b[34mhooks\u001b[m\u001b[m/\r\n",
      "drwxr-xr-x   3 lazaro  staff  102 Aug  7 17:03 \u001b[34minfo\u001b[m\u001b[m/\r\n",
      "drwxr-xr-x   4 lazaro  staff  136 Aug  7 17:03 \u001b[34mobjects\u001b[m\u001b[m/\r\n",
      "drwxr-xr-x   4 lazaro  staff  136 Aug  7 17:03 \u001b[34mrefs\u001b[m\u001b[m/\r\n"
     ]
    }
   ],
   "source": [
    "ls -alp .git"
   ]
  },
  {
   "cell_type": "markdown",
   "metadata": {},
   "source": [
    "### `git` clone\n",
    "Este comando clona un repositorio remoto de `git` en un directorio local.  Este comando configura el repositorio para notar los cambios que se hacen en el repositorio remoto.\n",
    "\n",
    "Como ejemplo de este comando, para clonar este curso deben usar la instrucción\n"
   ]
  },
  {
   "cell_type": "markdown",
   "metadata": {},
   "source": [
    "> ```git clone https://github.com/LazarusA/Simulacion2017```"
   ]
  },
  {
   "cell_type": "markdown",
   "metadata": {},
   "source": [
    "lo que creará el directorio (local, respecto al lugar donde ejecuten el comando) Simulacion2017"
   ]
  },
  {
   "cell_type": "markdown",
   "metadata": {},
   "source": [
    "### !`git` help"
   ]
  },
  {
   "cell_type": "code",
   "execution_count": 13,
   "metadata": {},
   "outputs": [
    {
     "name": "stdout",
     "output_type": "stream",
     "text": [
      "usage: git [--version] [--help] [-C <path>] [-c name=value]\r\n",
      "           [--exec-path[=<path>]] [--html-path] [--man-path] [--info-path]\r\n",
      "           [-p | --paginate | --no-pager] [--no-replace-objects] [--bare]\r\n",
      "           [--git-dir=<path>] [--work-tree=<path>] [--namespace=<name>]\r\n",
      "           <command> [<args>]\r\n",
      "\r\n",
      "These are common Git commands used in various situations:\r\n",
      "\r\n",
      "start a working area (see also: git help tutorial)\r\n",
      "   clone      Clone a repository into a new directory\r\n",
      "   init       Create an empty Git repository or reinitialize an existing one\r\n",
      "\r\n",
      "work on the current change (see also: git help everyday)\r\n",
      "   add        Add file contents to the index\r\n",
      "   mv         Move or rename a file, a directory, or a symlink\r\n",
      "   reset      Reset current HEAD to the specified state\r\n",
      "   rm         Remove files from the working tree and from the index\r\n",
      "\r\n",
      "examine the history and state (see also: git help revisions)\r\n",
      "   bisect     Use binary search to find the commit that introduced a bug\r\n",
      "   grep       Print lines matching a pattern\r\n",
      "   log        Show commit logs\r\n",
      "   show       Show various types of objects\r\n",
      "   status     Show the working tree status\r\n",
      "\r\n",
      "grow, mark and tweak your common history\r\n",
      "   branch     List, create, or delete branches\r\n",
      "   checkout   Switch branches or restore working tree files\r\n",
      "   commit     Record changes to the repository\r\n",
      "   diff       Show changes between commits, commit and working tree, etc\r\n",
      "   merge      Join two or more development histories together\r\n",
      "   rebase     Reapply commits on top of another base tip\r\n",
      "   tag        Create, list, delete or verify a tag object signed with GPG\r\n",
      "\r\n",
      "collaborate (see also: git help workflows)\r\n",
      "   fetch      Download objects and refs from another repository\r\n",
      "   pull       Fetch from and integrate with another repository or a local branch\r\n",
      "   push       Update remote refs along with associated objects\r\n",
      "\r\n",
      "'git help -a' and 'git help -g' list available subcommands and some\r\n",
      "concept guides. See 'git help <command>' or 'git help <concept>'\r\n",
      "to read about a specific subcommand or concept.\r\n"
     ]
    }
   ],
   "source": [
    "!git help"
   ]
  },
  {
   "cell_type": "markdown",
   "metadata": {},
   "source": [
    "**Para obtener el manual correspondiente a cada comando se usa**"
   ]
  },
  {
   "cell_type": "markdown",
   "metadata": {},
   "source": [
    "> ```git help  <command>```"
   ]
  },
  {
   "cell_type": "code",
   "execution_count": 20,
   "metadata": {},
   "outputs": [
    {
     "name": "stdout",
     "output_type": "stream",
     "text": [
      "GIT-MV(1)                         Git Manual                         GIT-MV(1)\r\n",
      "\r\n",
      "\r\n",
      "\r\n",
      "N\bNA\bAM\bME\bE\r\n",
      "       git-mv - Move or rename a file, a directory, or a symlink\r\n",
      "\r\n",
      "S\bSY\bYN\bNO\bOP\bPS\bSI\bIS\bS\r\n",
      "       _\bg_\bi_\bt _\bm_\bv <options>... <args>...\r\n",
      "\r\n",
      "\r\n",
      "D\bDE\bES\bSC\bCR\bRI\bIP\bPT\bTI\bIO\bON\bN\r\n",
      "       Move or rename a file, directory or symlink.\r\n",
      "\r\n",
      "           git mv [-v] [-f] [-n] [-k] <source> <destination>\r\n",
      "           git mv [-v] [-f] [-n] [-k] <source> ... <destination directory>\r\n",
      "\r\n",
      "       In the first form, it renames <source>, which must exist and be either\r\n",
      "       a file, symlink or directory, to <destination>. In the second form, the\r\n",
      "       last argument has to be an existing directory; the given sources will\r\n",
      "       be moved into this directory.\r\n",
      "\r\n",
      "       The index is updated after successful completion, but the change must\r\n",
      "       still be committed.\r\n",
      "\r\n",
      "O\bOP\bPT\bTI\bIO\bON\bNS\bS\r\n",
      "       -f, --force\r\n",
      "           Force renaming or moving of a file even if the target exists\r\n",
      "\r\n",
      "       -k\r\n",
      "           Skip move or rename actions which would lead to an error condition.\r\n",
      "           An error happens when a source is neither existing nor controlled\r\n",
      "           by Git, or when it would overwrite an existing file unless -\b-f\bf is\r\n",
      "           given.\r\n",
      "\r\n",
      "       -n, --dry-run\r\n",
      "           Do nothing; only show what would happen\r\n",
      "\r\n",
      "       -v, --verbose\r\n",
      "           Report the names of files as they are moved.\r\n",
      "\r\n",
      "S\bSU\bUB\bBM\bMO\bOD\bDU\bUL\bLE\bES\bS\r\n",
      "       Moving a submodule using a gitfile (which means they were cloned with a\r\n",
      "       Git version 1.7.8 or newer) will update the gitfile and core.worktree\r\n",
      "       setting to make the submodule work in the new location. It also will\r\n",
      "       attempt to update the submodule.<name>.path setting in the\r\n",
      "       g\bgi\bit\btm\bmo\bod\bdu\bul\ble\bes\bs(5) file and stage that file (unless -n is used).\r\n",
      "\r\n",
      "B\bBU\bUG\bGS\bS\r\n",
      "       Each time a superproject update moves a populated submodule (e.g. when\r\n",
      "       switching between commits before and after the move) a stale submodule\r\n",
      "       checkout will remain in the old location and an empty directory will\r\n",
      "       appear in the new location. To populate the submodule again in the new\r\n",
      "       location the user will have to run \"git submodule update\" afterwards.\r\n",
      "       Removing the old directory is only safe when it uses a gitfile, as\r\n",
      "       otherwise the history of the submodule will be deleted too. Both steps\r\n",
      "       will be obsolete when recursive submodule update has been implemented.\r\n",
      "\r\n",
      "G\bGI\bIT\bT\r\n",
      "       Part of the g\bgi\bit\bt(1) suite\r\n",
      "\r\n",
      "\r\n",
      "\r\n",
      "Git 2.11.0                        11/29/2016                         GIT-MV(1)\r\n"
     ]
    }
   ],
   "source": [
    "!git help mv"
   ]
  },
  {
   "cell_type": "markdown",
   "metadata": {},
   "source": [
    "### !git status"
   ]
  },
  {
   "cell_type": "markdown",
   "metadata": {},
   "source": [
    "Muestra el estado del repositorio, por ejemplo: la rama en la que se está trabajando, los cambios en los archivos que se siguen y los que no se están siguiendo."
   ]
  },
  {
   "cell_type": "code",
   "execution_count": 7,
   "metadata": {},
   "outputs": [
    {
     "name": "stdout",
     "output_type": "stream",
     "text": [
      "On branch master\n",
      "\n",
      "Initial commit\n",
      "\n",
      "Untracked files:\n",
      "  (use \"git add <file>...\" to include in what will be committed)\n",
      "\n",
      "\t\u001b[31m.ipynb_checkpoints/\u001b[m\n",
      "\t\u001b[31mContenidoModulo1.ipynb\u001b[m\n",
      "\t\u001b[31mGitTutorial.ipynb\u001b[m\n",
      "\n",
      "nothing added to commit but untracked files present (use \"git add\" to track)\n"
     ]
    }
   ],
   "source": [
    "!git status"
   ]
  },
  {
   "cell_type": "markdown",
   "metadata": {},
   "source": [
    "### !git log"
   ]
  },
  {
   "cell_type": "code",
   "execution_count": 14,
   "metadata": {},
   "outputs": [
    {
     "name": "stdout",
     "output_type": "stream",
     "text": [
      "fatal: your current branch 'master' does not have any commits yet\r\n"
     ]
    }
   ],
   "source": [
    "!git log"
   ]
  },
  {
   "cell_type": "markdown",
   "metadata": {},
   "source": [
    "### git add"
   ]
  },
  {
   "cell_type": "markdown",
   "metadata": {},
   "source": [
    "Este es uno de los comandos más importantes: agrega el contenido del archivo a la lista de archivos cuyos cambios se segurán en el repositorio:"
   ]
  },
  {
   "cell_type": "markdown",
   "metadata": {},
   "source": [
    "> ```git add <file>```"
   ]
  },
  {
   "cell_type": "markdown",
   "metadata": {},
   "source": [
    "###  git commit\n",
    "Este comando \"compromete\" los cambios hechos y agregados con git add, es decir, los incluye en el historial del repositorio. Es un comando muy importante, en el sentido que no usarlo puede llevar a pérdida del trabajo realizado."
   ]
  },
  {
   "cell_type": "markdown",
   "metadata": {},
   "source": [
    "### git checkout"
   ]
  },
  {
   "cell_type": "markdown",
   "metadata": {},
   "source": [
    "Este comando tiene varias aplicaciones."
   ]
  },
  {
   "cell_type": "markdown",
   "metadata": {},
   "source": [
    "> ```git checkout my_branch```"
   ]
  },
  {
   "cell_type": "markdown",
   "metadata": {},
   "source": [
    "sirve para cambiarse de rama, a la rama \"my_branch\". También permite crear ramas, por ejemplo la rama \"other_branch\", usando"
   ]
  },
  {
   "cell_type": "markdown",
   "metadata": {},
   "source": [
    "> ```git checkout -b other_branch```"
   ]
  },
  {
   "cell_type": "markdown",
   "metadata": {},
   "source": [
    "También permite revertir ciertos cambios en archivos. Por ejemplo,"
   ]
  },
  {
   "cell_type": "markdown",
   "metadata": {},
   "source": [
    "> ```git checkout -- file```"
   ]
  },
  {
   "cell_type": "markdown",
   "metadata": {},
   "source": [
    "revierte los cambios hecho en el archivo \"file\", es decir, vuelve a la versión del archivo (o de directorios) que está almacenada en el historial de git."
   ]
  },
  {
   "cell_type": "markdown",
   "metadata": {},
   "source": [
    "### Configuración de `git`\n",
    "Los comandos básicos de configuración son:"
   ]
  },
  {
   "cell_type": "markdown",
   "metadata": {},
   "source": [
    "> \n",
    "```\n",
    "git config --global user.name \"Tu nombre\"\n",
    "git config --global user.email \"tu_usuario@email_real.com\"\n",
    "git config --global color.ui \"auto\"\n",
    "git config --global github.user \"Usuario_GitHub\"\n",
    "```"
   ]
  },
  {
   "cell_type": "markdown",
   "metadata": {},
   "source": [
    "> `git` config --list"
   ]
  },
  {
   "cell_type": "markdown",
   "metadata": {},
   "source": [
    "Si su configuración es local, por ejemplo, por que comparten la cuenta en la máquina en la que trabajan, en lugar de usar --global deben usar --local."
   ]
  },
  {
   "cell_type": "markdown",
   "metadata": {},
   "source": [
    "## `git` colaborativo"
   ]
  },
  {
   "cell_type": "markdown",
   "metadata": {},
   "source": [
    "### Ramas (*branches*)"
   ]
  },
  {
   "cell_type": "markdown",
   "metadata": {},
   "source": [
    "Un punto esencial para hacer de `git` una herramienta colaborativa es el uso de ramas (*branches*). \n",
    "\n",
    "La idea es trabajar en una rama independiente. En esa rama uno hace un desarrollo específico, que eventualmente se envía para ser considerado a incluirse en el proyecto."
   ]
  },
  {
   "cell_type": "markdown",
   "metadata": {},
   "source": [
    "Para crear una rama, uno usa el comando"
   ]
  },
  {
   "cell_type": "markdown",
   "metadata": {},
   "source": [
    "> ```\n",
    "git branch <nombre_rama>\n",
    "```"
   ]
  },
  {
   "cell_type": "markdown",
   "metadata": {},
   "source": [
    "Ejemplos de posibles nombres de ramas son \"tutorial_git\" o \"LazarusA/GitTutorial\". \n",
    "El comando anterior *crea* la rama, pero no nos cambia a esa rama. Para cambiarnos, utilizamos (ver arriba) el comando `git checkout <nombre_rama>`. Para ver qué ramas hay en el proyecto, uno usa el comando `git branch -v`."
   ]
  },
  {
   "cell_type": "markdown",
   "metadata": {},
   "source": [
    "Una manera más corta de crear la rama y cambiarnos a ella es usar el comando\n",
    "```\n",
    "git checkout -b <nombre_rama>\n",
    "```\n",
    "\n",
    "Es importante señalar que uno puede crear tantas ramas como se quiera."
   ]
  },
  {
   "cell_type": "markdown",
   "metadata": {},
   "source": [
    "La idea de las ramas es hacer todos los ensayos posibles sin que esto afecte el desarrollo del proyecto (cuya rama principal es `master`); eventualmente uno hace (desde su propio *fork* en GitHub un *Pull Request* para que los cambios se incluyan en el proyecto."
   ]
  },
  {
   "cell_type": "markdown",
   "metadata": {},
   "source": [
    "### Servidores remotos"
   ]
  },
  {
   "cell_type": "markdown",
   "metadata": {},
   "source": [
    "Uno debe tener claro que uno tiene una copia íntegra del repositorio en su disco duro. El repositorio, además de estar en cada una de nuestras máquinas está en GitHub. Como se dijo más arriba, `git clone` permite clonar un repositorio *remoto* (por ejemplo, en GitHub, aunque no exclusivamente) a un directorio local. `git` permite de hecho poder seguir los cambios de distintos repositorios remotos, por ejemplo el proyecto oficial, y el de nuestro *fork* propio."
   ]
  },
  {
   "cell_type": "markdown",
   "metadata": {},
   "source": [
    "Para ver qué configuración se tiene de los repositorios remotos, uno ejecuta `git remove -v`:\n",
    "\n"
   ]
  },
  {
   "cell_type": "markdown",
   "metadata": {},
   "source": [
    "\n",
    "Si uno quiere agregar un nuevo servidor para seguir los cambios, por ejemplo, el de su *fork*, lo que se necesita hacer es usar el comando:\n"
   ]
  },
  {
   "cell_type": "markdown",
   "metadata": {},
   "source": [
    "> \n",
    "```\n",
    "git remote add <alias> <url_de_su_fork>\n",
    "```"
   ]
  },
  {
   "cell_type": "markdown",
   "metadata": {},
   "source": [
    "donde `<url_de_su_fork>` es la dirección donde está su *fork* en GitHub, y `<alias>` es la abreviación que le darán (por ejemplo, \"fork\" o \"mifork\"; este último es el que usaré)."
   ]
  },
  {
   "cell_type": "markdown",
   "metadata": {},
   "source": [
    "Las abreviaciones (o alias) de los repositorios son muy útiles. Por ejemplo, ustedes *sólamente* van a poder subir los cambios que hagan en un proyecto a su propio *fork* (o también a los repositorios donde estén declarados como colaboradores del proyecto). El comando"
   ]
  },
  {
   "cell_type": "markdown",
   "metadata": {},
   "source": [
    "> ```\n",
    "git push mifork\n",
    "```\n",
    "*empuja* sus cambios a `mifork`."
   ]
  },
  {
   "cell_type": "markdown",
   "metadata": {},
   "source": [
    "De igual manera, ustedes quieren tener actualizada la rama `master` con el proyecto del curso. Lo que deben hacer para esto es:\n"
   ]
  },
  {
   "cell_type": "markdown",
   "metadata": {},
   "source": [
    "> \n",
    "```\n",
    "git checkout master\n",
    "git pull origin\n",
    "git push mifork\n",
    "```"
   ]
  },
  {
   "cell_type": "markdown",
   "metadata": {},
   "source": [
    "La primer instrucción hace el cambio de rama a `master`, y la segunda *jala* los cambios (si es que hay en master) a la rama que tenemos localmente. Vale la pena notar que, si bien tenemos la copia *local* actualizada, la copia en el *fork* aún no lo está; esa es la razón de la tercer instrucción."
   ]
  },
  {
   "cell_type": "markdown",
   "metadata": {},
   "source": [
    "<img src=\"https://raw.githubusercontent.com/louim/in-case-of-fire/master/in_case_of_fire.png\" title=\"In case of fire (https://github.com/louim/in-case-of-fire)\" width=\"200\" height=\"50\" align=\"center\">"
   ]
  },
  {
   "cell_type": "markdown",
   "metadata": {},
   "source": [
    "> Tarea "
   ]
  },
  {
   "cell_type": "markdown",
   "metadata": {},
   "source": [
    "<script>\n",
    "  $(document).ready(function(){\n",
    "    $('div.prompt').hide();\n",
    "    $('div.back-to-top').hide();\n",
    "    $('nav#menubar').hide();\n",
    "    $('.breadcrumb').hide();\n",
    "    $('.hidden-print').hide();\n",
    "  });\n",
    "</script>\n",
    "\n",
    "<footer id=\"attribution\" style=\"float:right; color:#808080; background:#fff;\">\n",
    "Created with Jupyter by Lázaro Alonso.\n",
    "</footer>"
   ]
  }
 ],
 "metadata": {
  "kernelspec": {
   "display_name": "Python 3",
   "language": "python",
   "name": "python3"
  },
  "language_info": {
   "codemirror_mode": {
    "name": "ipython",
    "version": 3
   },
   "file_extension": ".py",
   "mimetype": "text/x-python",
   "name": "python",
   "nbconvert_exporter": "python",
   "pygments_lexer": "ipython3",
   "version": "3.6.4"
  }
 },
 "nbformat": 4,
 "nbformat_minor": 1
}
