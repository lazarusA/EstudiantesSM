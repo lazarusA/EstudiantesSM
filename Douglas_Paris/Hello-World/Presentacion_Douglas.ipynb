{
 "cells": [
  {
   "cell_type": "markdown",
   "metadata": {
    "collapsed": false
   },
   "source": [
    "<img style=\"float: right; margin: 0px 0px 15px 15px;\" src=\"https://scontent-dfw5-1.xx.fbcdn.net/v/t1.0-9/16938753_1230022747052866_4565461427322063981_n.jpg?_nc_cat=0&oh=f7895dd8f26937a10e13c2db6694d35c&oe=5B776C2E\" width=\"300px\" height=\"100px\" />\n",
    "\n",
    "# Presentacion\n",
    "## Douglas\n",
    "- 19 Años\n",
    "- Guadalajara\n",
    "- Financial Engineering\n",
    "- 3er Semestre"
   ]
  },
  {
   "cell_type": "markdown",
   "metadata": {
    "collapsed": false
   },
   "source": [
    "> Me gustan los outdoors y la musica, especialemente la electronica underground, como el techno o progressive, estoy interesado en saber sobre economia y finanzas, a nivel micro y macros... "
   ]
  },
  {
   "cell_type": "markdown",
   "metadata": {
    "collapsed": false
   },
   "source": [
    "$f(X)=\\frac{\\sin(os)}{\\cos(os)}= \\tan(os)$"
   ]
  },
  {
   "cell_type": "markdown",
   "metadata": {
    "collapsed": false
   },
   "source": [
    "## Que espero de este curso?\n",
    "- Aprender a simular modelos\n",
    "- Identificar modelos\n",
    "- Aumentar mi capacidad en el lenguaje de pyhton\n",
    "- Modelar situaciones simples\n",
    "- Identificar variables que afecten el modelo"
   ]
  },
  {
   "cell_type": "code",
   "execution_count": 0,
   "metadata": {
    "collapsed": false
   },
   "outputs": [
   ],
   "source": [
   ]
  }
 ],
 "metadata": {
  "kernelspec": {
   "display_name": "Python 3 (Ubuntu Linux)",
   "language": "python",
   "name": "python3"
  },
  "language_info": {
   "codemirror_mode": {
    "name": "ipython",
    "version": 3
   },
   "file_extension": ".py",
   "mimetype": "text/x-python",
   "name": "python",
   "nbconvert_exporter": "python",
   "pygments_lexer": "ipython3",
   "version": "3.5.2"
  }
 },
 "nbformat": 4,
 "nbformat_minor": 0
}