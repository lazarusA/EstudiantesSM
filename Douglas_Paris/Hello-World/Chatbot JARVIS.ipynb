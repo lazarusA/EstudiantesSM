{
 "cells": [
  {
   "cell_type": "code",
   "execution_count": 5,
   "metadata": {},
   "outputs": [],
   "source": [
    "#Chatbot de bienvenida \n",
    "\n",
    "from time import sleep\n",
    "def print_words(sentence):\n",
    "    for word in sentence.split():\n",
    "        for l in word:\n",
    "            sleep(.1)\n",
    "            print(l, end = '')\n",
    "        print(end = ' ')"
   ]
  },
  {
   "cell_type": "code",
   "execution_count": 6,
   "metadata": {},
   "outputs": [
    {
     "name": "stdout",
     "output_type": "stream",
     "text": [
      "gucci gang gucci gang "
     ]
    }
   ],
   "source": [
    "en = \"gucci gang gucci gang\"\n",
    "print_words(en)"
   ]
  },
  {
   "cell_type": "code",
   "execution_count": 7,
   "metadata": {},
   "outputs": [],
   "source": [
    "prompt = ' >> '"
   ]
  },
  {
   "cell_type": "code",
   "execution_count": 8,
   "metadata": {},
   "outputs": [
    {
     "name": "stdout",
     "output_type": "stream",
     "text": [
      " >> jarvis\n"
     ]
    }
   ],
   "source": [
    "nombre_usuario = input(prompt)"
   ]
  },
  {
   "cell_type": "code",
   "execution_count": 9,
   "metadata": {},
   "outputs": [
    {
     "data": {
      "text/plain": [
       "'jarvis'"
      ]
     },
     "execution_count": 9,
     "metadata": {},
     "output_type": "execute_result"
    }
   ],
   "source": [
    "nombre_usuario"
   ]
  },
  {
   "cell_type": "code",
   "execution_count": 12,
   "metadata": {},
   "outputs": [],
   "source": [
    "respuesta = \"Mucho gusto en conocerte %s, my name is earl\" %nombre_usuario"
   ]
  },
  {
   "cell_type": "code",
   "execution_count": 13,
   "metadata": {},
   "outputs": [
    {
     "name": "stdout",
     "output_type": "stream",
     "text": [
      "Mucho gusto en conocerte jarvis, my name is earl\n"
     ]
    }
   ],
   "source": [
    "print(respuesta)"
   ]
  },
  {
   "cell_type": "code",
   "execution_count": 14,
   "metadata": {},
   "outputs": [
    {
     "name": "stdout",
     "output_type": "stream",
     "text": [
      "Hola, bienvenida o bienvenido a simulación matemática. Me puedes llamar Alice y me gustaría saber un poco acerca de ti, por ejemplo ¿Cuál es tu nombre?  >> Doug\n",
      "Gusto en conocerte Doug, espero que te guste el curso. Ahora, me gustaría saber donde vives Doug, ¿cuál es tu ciudad?  >> GDL\n",
      "Mmm... ¿eso es una ciudad real? GDL. Bueno, después lo investigo. ¿Qué edad tienes?  >> 19\n",
      "¿Te ha gustado esta bienvenida?  >>   Si\n",
      "Muy bien Doug, dices que Si te gustó la bienvenida. Tú vives en GDL, ya dije que voy a investigar donde es eso. Y además estas por cumplir 20 años. Fue un gusto conocerte, hasta pronto! "
     ]
    }
   ],
   "source": [
    "%run welcome.py"
   ]
  },
  {
   "cell_type": "markdown",
   "metadata": {},
   "source": [
    "## Actividad:  Realizar un chatbot "
   ]
  },
  {
   "cell_type": "code",
   "execution_count": null,
   "metadata": {},
   "outputs": [],
   "source": [
    "from time import sleep\n",
    "\n",
    "def print_words(sentence):\n",
    "    for word in sentence.split():\n",
    "        for l in word:\n",
    "            sleep(.05)\n",
    "            print(l, end = '')\n",
    "        print(end = ' ')\n",
    "        \n",
    "s1 = 'Hola, bienvenido, mi nombre es Jarvis'\n",
    "print_words(s1)\n",
    "s2 = '¿Cuál es tu nombre?'\n",
    "print_words(s2)\n",
    "prompt = ' >> '\n",
    "nombre_usuario = input(prompt)\n",
    "s3 = \"Que tal \" + nombre_usuario + ' me gustaria saber mas de ti...'\n",
    "print_words(s3)\n",
    "s4 = 'De donde eres %s, ¿cuál es tu ciudad de origen?' % nombre_usuario\n",
    "print_words(s4)\n",
    "lugar = input(prompt)\n",
    "s5 = 'Ok, entonces vienes de %s, ¿Cuantos años tienes?' %lugar\n",
    "print_words(s5)\n",
    "edad = input(prompt)\n",
    "s6 = '¿Cuanto llevas en ITESO?'\n",
    "print_words(s6)\n",
    "timepo = input(prompt)\n",
    "sfinal = ' Muy bien %s, llevas %s en ITESO, bastante...' % (nombre_usuario, timepo)\n",
    "sfinal2 = ' Eres de %s, me gusta ese lugar. Planeo visitarlo luego'% lugar\n",
    "sfinal3 = 'Que tengas un buen dia!\"\n",
    "print_words(sfinal)\n",
    "print_words(sfinal2)\n",
    "print_words(sfinal3)\n"
   ]
  }
 ],
 "metadata": {
  "kernelspec": {
   "display_name": "Python 3",
   "language": "python",
   "name": "python3"
  },
  "language_info": {
   "codemirror_mode": {
    "name": "ipython",
    "version": 3
   },
   "file_extension": ".py",
   "mimetype": "text/x-python",
   "name": "python",
   "nbconvert_exporter": "python",
   "pygments_lexer": "ipython3",
   "version": "3.6.3"
  }
 },
 "nbformat": 4,
 "nbformat_minor": 2
}
